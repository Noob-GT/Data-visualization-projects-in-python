{
 "cells": [
  {
   "cell_type": "markdown",
   "metadata": {},
   "source": [
    "This is a `bqplot` recreation of Mike Bostock's [Wealth of Nations](https://bost.ocks.org/mike/nations/). This was also done by [Gapminder](http://www.gapminder.org/world/#$majorMode=chart$is;shi=t;ly=2003;lb=f;il=t;fs=11;al=30;stl=t;st=t;nsl=t;se=t$wst;tts=C$ts;sp=5.59290322580644;ti=2013$zpv;v=0$inc_x;mmid=XCOORDS;iid=phAwcNAVuyj1jiMAkmq1iMg;by=ind$inc_y;mmid=YCOORDS;iid=phAwcNAVuyj2tPLxKvvnNPA;by=ind$inc_s;uniValue=8.21;iid=phAwcNAVuyj0XOoBL_n5tAQ;by=ind$inc_c;uniValue=255;gid=CATID0;by=grp$map_x;scale=log;dataMin=194;dataMax=96846$map_y;scale=lin;dataMin=23;dataMax=86$map_s;sma=49;smi=2.65$cd;bd=0$inds=;modified=60). It is originally based on a TED Talk by [Hans Rosling](http://www.ted.com/talks/hans_rosling_shows_the_best_stats_you_ve_ever_seen)."
   ]
  },
  {
   "cell_type": "markdown",
   "metadata": {},
   "source": [
    "### Import required modules"
   ]
  },
  {
   "cell_type": "code",
   "execution_count": 1,
   "metadata": {
    "collapsed": true
   },
   "outputs": [],
   "source": [
    "import pandas as pd\n",
    "import numpy as np\n",
    "import os\n",
    "\n",
    "from bqplot import (\n",
    "    LogScale, LinearScale, OrdinalColorScale, ColorAxis,\n",
    "    Axis, Scatter, Lines, CATEGORY10, Label, Figure, Tooltip\n",
    ")\n",
    "\n",
    "from ipywidgets import HBox, VBox, IntSlider, Play, jslink"
   ]
  },
  {
   "cell_type": "markdown",
   "metadata": {},
   "source": [
    "### Read in the data"
   ]
  },
  {
   "cell_type": "code",
   "execution_count": 2,
   "metadata": {
    "collapsed": true,
    "scrolled": false
   },
   "outputs": [],
   "source": [
    "data = pd.read_json(os.path.abspath('nations.json'))"
   ]
  },
  {
   "cell_type": "code",
   "execution_count": 95,
   "metadata": {},
   "outputs": [
    {
     "name": "stdout",
     "output_type": "stream",
     "text": [
      "<class 'pandas.core.frame.DataFrame'>\n",
      "Int64Index: 180 entries, 0 to 179\n",
      "Data columns (total 5 columns):\n",
      "income            180 non-null object\n",
      "lifeExpectancy    180 non-null object\n",
      "name              180 non-null object\n",
      "population        180 non-null object\n",
      "region            180 non-null object\n",
      "dtypes: object(5)\n",
      "memory usage: 8.4+ KB\n"
     ]
    }
   ],
   "source": [
    "data.info()"
   ]
  },
  {
   "cell_type": "code",
   "execution_count": 96,
   "metadata": {},
   "outputs": [
    {
     "data": {
      "text/html": [
       "<div>\n",
       "<table border=\"1\" class=\"dataframe\">\n",
       "  <thead>\n",
       "    <tr style=\"text-align: right;\">\n",
       "      <th></th>\n",
       "      <th>income</th>\n",
       "      <th>lifeExpectancy</th>\n",
       "      <th>name</th>\n",
       "      <th>population</th>\n",
       "      <th>region</th>\n",
       "    </tr>\n",
       "  </thead>\n",
       "  <tbody>\n",
       "    <tr>\n",
       "      <th>0</th>\n",
       "      <td>[[1800, 359.93], [1820, 359.93], [1913, 556.12...</td>\n",
       "      <td>[[1800, 26.98], [1940, 26.98], [1950, 29.22], ...</td>\n",
       "      <td>Angola</td>\n",
       "      <td>[[1800, 1567028], [1820, 1567028], [1940, 3738...</td>\n",
       "      <td>Sub-Saharan Africa</td>\n",
       "    </tr>\n",
       "    <tr>\n",
       "      <th>1</th>\n",
       "      <td>[[1800, 553.72], [1820, 553.72], [1913, 855.53...</td>\n",
       "      <td>[[1800, 31], [1944, 31], [1950, 36.53], [1951,...</td>\n",
       "      <td>Benin</td>\n",
       "      <td>[[1800, 636559], [1820, 636559], [1950, 167266...</td>\n",
       "      <td>Sub-Saharan Africa</td>\n",
       "    </tr>\n",
       "    <tr>\n",
       "      <th>2</th>\n",
       "      <td>[[1800, 407.36], [1820, 407.36], [1913, 629.4]...</td>\n",
       "      <td>[[1800, 33.6], [1945, 33.6], [1950, 46.82], [1...</td>\n",
       "      <td>Botswana</td>\n",
       "      <td>[[1800, 121000], [1904, 121000], [1911, 125000...</td>\n",
       "      <td>Sub-Saharan Africa</td>\n",
       "    </tr>\n",
       "    <tr>\n",
       "      <th>3</th>\n",
       "      <td>[[1800, 454.33], [1820, 454.33], [1913, 497.44...</td>\n",
       "      <td>[[1800, 29.2], [1945, 29.2], [1950, 32.89], [1...</td>\n",
       "      <td>Burkina Faso</td>\n",
       "      <td>[[1800, 1665421], [1820, 1665421], [1950, 4376...</td>\n",
       "      <td>Sub-Saharan Africa</td>\n",
       "    </tr>\n",
       "    <tr>\n",
       "      <th>4</th>\n",
       "      <td>[[1800, 447.59], [1820, 447.59], [1913, 353.82...</td>\n",
       "      <td>[[1800, 31.5], [1945, 31.5], [1950, 38.42], [1...</td>\n",
       "      <td>Burundi</td>\n",
       "      <td>[[1800, 899097], [1820, 899097], [1950, 236252...</td>\n",
       "      <td>Sub-Saharan Africa</td>\n",
       "    </tr>\n",
       "  </tbody>\n",
       "</table>\n",
       "</div>"
      ],
      "text/plain": [
       "                                              income  \\\n",
       "0  [[1800, 359.93], [1820, 359.93], [1913, 556.12...   \n",
       "1  [[1800, 553.72], [1820, 553.72], [1913, 855.53...   \n",
       "2  [[1800, 407.36], [1820, 407.36], [1913, 629.4]...   \n",
       "3  [[1800, 454.33], [1820, 454.33], [1913, 497.44...   \n",
       "4  [[1800, 447.59], [1820, 447.59], [1913, 353.82...   \n",
       "\n",
       "                                      lifeExpectancy          name  \\\n",
       "0  [[1800, 26.98], [1940, 26.98], [1950, 29.22], ...        Angola   \n",
       "1  [[1800, 31], [1944, 31], [1950, 36.53], [1951,...         Benin   \n",
       "2  [[1800, 33.6], [1945, 33.6], [1950, 46.82], [1...      Botswana   \n",
       "3  [[1800, 29.2], [1945, 29.2], [1950, 32.89], [1...  Burkina Faso   \n",
       "4  [[1800, 31.5], [1945, 31.5], [1950, 38.42], [1...       Burundi   \n",
       "\n",
       "                                          population              region  \n",
       "0  [[1800, 1567028], [1820, 1567028], [1940, 3738...  Sub-Saharan Africa  \n",
       "1  [[1800, 636559], [1820, 636559], [1950, 167266...  Sub-Saharan Africa  \n",
       "2  [[1800, 121000], [1904, 121000], [1911, 125000...  Sub-Saharan Africa  \n",
       "3  [[1800, 1665421], [1820, 1665421], [1950, 4376...  Sub-Saharan Africa  \n",
       "4  [[1800, 899097], [1820, 899097], [1950, 236252...  Sub-Saharan Africa  "
      ]
     },
     "execution_count": 96,
     "metadata": {},
     "output_type": "execute_result"
    }
   ],
   "source": [
    "data.head()"
   ]
  },
  {
   "cell_type": "markdown",
   "metadata": {},
   "source": [
    "### Clean data"
   ]
  },
  {
   "cell_type": "code",
   "execution_count": 97,
   "metadata": {
    "collapsed": true
   },
   "outputs": [],
   "source": [
    "def clean_data(data):\n",
    "    for column in ['income', 'lifeExpectancy', 'population']:\n",
    "        data = data.drop(data[data[column].apply(len) <= 4].index)\n",
    "    return data\n",
    "\n",
    "def extrap_interp(data):\n",
    "    data = np.array(data)\n",
    "    x_range = np.arange(1800, 2009, 1.)\n",
    "    y_range = np.interp(x_range, data[:, 0], data[:, 1])\n",
    "    return y_range\n",
    "\n",
    "def extrap_data(data):\n",
    "    for column in ['income', 'lifeExpectancy', 'population']:\n",
    "        data[column] = data[column].apply(extrap_interp)\n",
    "    return data"
   ]
  },
  {
   "cell_type": "code",
   "execution_count": 98,
   "metadata": {
    "collapsed": true
   },
   "outputs": [],
   "source": [
    "data = clean_data(data)\n",
    "data = extrap_data(data)"
   ]
  },
  {
   "cell_type": "markdown",
   "metadata": {},
   "source": [
    "### Prep Data for visualizations"
   ]
  },
  {
   "cell_type": "code",
   "execution_count": 99,
   "metadata": {
    "collapsed": true,
    "scrolled": true
   },
   "outputs": [],
   "source": [
    "income_min, income_max = np.min(data['income'].apply(np.min)), np.max(data['income'].apply(np.max))\n",
    "life_exp_min, life_exp_max = np.min(data['lifeExpectancy'].apply(np.min)), np.max(data['lifeExpectancy'].apply(np.max))\n",
    "pop_min, pop_max = np.min(data['population'].apply(np.min)), np.max(data['population'].apply(np.max))"
   ]
  },
  {
   "cell_type": "code",
   "execution_count": 100,
   "metadata": {
    "collapsed": true
   },
   "outputs": [],
   "source": [
    "def get_data(year):\n",
    "    year_index = year - 1800\n",
    "    income = data['income'].apply(lambda x: x[year_index])\n",
    "    life_exp = data['lifeExpectancy'].apply(lambda x: x[year_index])\n",
    "    pop =  data['population'].apply(lambda x: x[year_index])\n",
    "    return income, life_exp, pop"
   ]
  },
  {
   "cell_type": "code",
   "execution_count": 101,
   "metadata": {},
   "outputs": [
    {
     "data": {
      "text/plain": [
       "(0       2446.65\n",
       " 1       1307.57\n",
       " 2      10107.99\n",
       " 3       1001.48\n",
       " 4        443.76\n",
       " 5       1803.44\n",
       " 6       2291.29\n",
       " 7       1017.03\n",
       " 8       1090.79\n",
       " 9        292.45\n",
       " 10      3423.52\n",
       " 11      1746.31\n",
       " 12      5240.45\n",
       " 13       741.57\n",
       " 14       512.36\n",
       " 15     12764.05\n",
       " 16      1067.60\n",
       " 17       906.62\n",
       " 18       632.08\n",
       " 19      1318.49\n",
       " 20      1186.64\n",
       " 21       519.49\n",
       " 22      1027.09\n",
       " 23       713.78\n",
       " 24       854.73\n",
       " 25      1540.84\n",
       " 26      8290.95\n",
       " 28       542.81\n",
       " 29      4022.88\n",
       " 30       577.19\n",
       "          ...   \n",
       " 149     1635.22\n",
       " 150    29241.51\n",
       " 151    48020.35\n",
       " 152      833.36\n",
       " 153     3012.12\n",
       " 154     3856.32\n",
       " 155    24659.01\n",
       " 156    29972.38\n",
       " 157     2714.94\n",
       " 158    28559.60\n",
       " 159     1690.00\n",
       " 160    16996.00\n",
       " 161    22512.56\n",
       " 162    10161.49\n",
       " 163     5530.16\n",
       " 164     2017.51\n",
       " 165     1034.45\n",
       " 166    33884.50\n",
       " 167    21895.16\n",
       " 168     1821.68\n",
       " 169     2598.89\n",
       " 170     4090.83\n",
       " 171    36834.85\n",
       " 172     1802.02\n",
       " 173    23525.00\n",
       " 174     5578.40\n",
       " 175     2743.19\n",
       " 177     4886.27\n",
       " 178     1577.53\n",
       " 179     3762.19\n",
       " Name: income, dtype: float64, 0      43.56\n",
       " 1      58.34\n",
       " 2      50.65\n",
       " 3      50.37\n",
       " 4      46.90\n",
       " 5      51.52\n",
       " 6      68.98\n",
       " 7      49.30\n",
       " 8      61.85\n",
       " 9      46.34\n",
       " 10     53.58\n",
       " 11     55.45\n",
       " 12     48.74\n",
       " 13     55.94\n",
       " 14     51.40\n",
       " 15     59.90\n",
       " 16     57.91\n",
       " 17     53.27\n",
       " 18     45.84\n",
       " 19     52.82\n",
       " 20     50.48\n",
       " 21     54.44\n",
       " 22     56.51\n",
       " 23     50.99\n",
       " 24     45.64\n",
       " 25     56.50\n",
       " 26     71.32\n",
       " 28     47.65\n",
       " 29     58.78\n",
       " 30     46.41\n",
       "        ...  \n",
       " 149    66.99\n",
       " 150    79.93\n",
       " 151    75.93\n",
       " 152    57.08\n",
       " 153    71.29\n",
       " 154    67.28\n",
       " 155    72.24\n",
       " 156    80.83\n",
       " 157    67.41\n",
       " 158    81.35\n",
       " 159    66.96\n",
       " 160    75.92\n",
       " 161    79.04\n",
       " 162    72.50\n",
       " 163    67.29\n",
       " 164    64.19\n",
       " 165    59.94\n",
       " 166    73.92\n",
       " 167    78.90\n",
       " 168    57.74\n",
       " 169    69.49\n",
       " 170    69.28\n",
       " 171    77.93\n",
       " 172    62.15\n",
       " 173    76.07\n",
       " 174    68.09\n",
       " 175    56.23\n",
       " 177    70.75\n",
       " 178    72.08\n",
       " 179    67.42\n",
       " Name: lifeExpectancy, dtype: float64, 0      1.044281e+07\n",
       " 1      6.627964e+06\n",
       " 2      1.607069e+06\n",
       " 3      1.130855e+07\n",
       " 4      6.621126e+06\n",
       " 5      1.523367e+07\n",
       " 6      4.013430e+05\n",
       " 7      8.316481e+06\n",
       " 8      5.784000e+05\n",
       " 9      5.202183e+07\n",
       " 10     3.102404e+06\n",
       " 11     1.556339e+07\n",
       " 12     4.732160e+05\n",
       " 13     4.356581e+06\n",
       " 14     6.469005e+07\n",
       " 15     1.235484e+06\n",
       " 16     1.965772e+07\n",
       " 17     8.638858e+06\n",
       " 18     1.278273e+06\n",
       " 19     2.998584e+07\n",
       " 20     2.037961e+06\n",
       " 21     2.693780e+06\n",
       " 22     1.550647e+07\n",
       " 23     1.125816e+07\n",
       " 24     1.007227e+07\n",
       " 25     2.667859e+06\n",
       " 26     1.179368e+06\n",
       " 28     1.776846e+07\n",
       " 29     1.905659e+06\n",
       " 30     1.051611e+07\n",
       "            ...     \n",
       " 149    2.475552e+07\n",
       " 150    1.916462e+07\n",
       " 151    3.363760e+05\n",
       " 152    1.246626e+07\n",
       " 153    1.262645e+09\n",
       " 154    8.324940e+05\n",
       " 155    2.491100e+05\n",
       " 156    6.658720e+06\n",
       " 157    2.062650e+08\n",
       " 158    1.266998e+08\n",
       " 159    2.164768e+07\n",
       " 160    4.735108e+07\n",
       " 161    4.313380e+05\n",
       " 162    2.179329e+07\n",
       " 163    1.077540e+05\n",
       " 164    2.600835e+06\n",
       " 165    4.470224e+07\n",
       " 166    2.018160e+05\n",
       " 167    3.819762e+06\n",
       " 168    4.926984e+06\n",
       " 169    7.973982e+07\n",
       " 170    1.794660e+05\n",
       " 171    4.036753e+06\n",
       " 172    4.661940e+05\n",
       " 173    2.215124e+07\n",
       " 174    6.186293e+07\n",
       " 175    8.465990e+05\n",
       " 177    1.023210e+05\n",
       " 178    7.906041e+07\n",
       " 179    1.896180e+05\n",
       " Name: population, dtype: float64)"
      ]
     },
     "execution_count": 101,
     "metadata": {},
     "output_type": "execute_result"
    }
   ],
   "source": [
    "get_data(2000)"
   ]
  },
  {
   "cell_type": "markdown",
   "metadata": {},
   "source": [
    "### Setting up the visualization elements"
   ]
  },
  {
   "cell_type": "markdown",
   "metadata": {},
   "source": [
    "#### Tooltip"
   ]
  },
  {
   "cell_type": "code",
   "execution_count": 102,
   "metadata": {
    "collapsed": true
   },
   "outputs": [],
   "source": [
    "tt = Tooltip(fields=['name', 'x', 'y'], labels=['Country Name', 'Income per Capita', 'Life Expectancy'])"
   ]
  },
  {
   "cell_type": "markdown",
   "metadata": {},
   "source": [
    "#### Labels"
   ]
  },
  {
   "cell_type": "code",
   "execution_count": 103,
   "metadata": {
    "collapsed": true
   },
   "outputs": [],
   "source": [
    "initial_year = 1800\n",
    "year_label = Label(x=[0.75], y=[0.10], default_size=46, font_weight='bolder', colors=['orange'],\n",
    "                   text=[str(initial_year)], enable_move=True)"
   ]
  },
  {
   "cell_type": "markdown",
   "metadata": {},
   "source": [
    "#### Axes and Scales"
   ]
  },
  {
   "cell_type": "code",
   "execution_count": 104,
   "metadata": {
    "collapsed": true
   },
   "outputs": [],
   "source": [
    "x_sc = LogScale(min=income_min, max=income_max)\n",
    "y_sc = LinearScale(min=life_exp_min, max=life_exp_max)\n",
    "c_sc = OrdinalColorScale(domain=data['region'].unique().tolist(), colors=CATEGORY10[:6])\n",
    "size_sc = LinearScale(min=pop_min, max=pop_max)"
   ]
  },
  {
   "cell_type": "code",
   "execution_count": 105,
   "metadata": {
    "collapsed": true
   },
   "outputs": [],
   "source": [
    "ax_y = Axis(label='Life Expectancy', scale=y_sc, orientation='vertical', side='left', grid_lines='solid')\n",
    "ax_x = Axis(label='Income per Capita', scale=x_sc, grid_lines='solid')"
   ]
  },
  {
   "cell_type": "markdown",
   "metadata": {},
   "source": [
    "#### Scatter mark size and color"
   ]
  },
  {
   "cell_type": "code",
   "execution_count": 106,
   "metadata": {
    "collapsed": true
   },
   "outputs": [],
   "source": [
    "# Start with the first year's data\n",
    "cap_income, life_exp, pop = get_data(initial_year)"
   ]
  },
  {
   "cell_type": "code",
   "execution_count": 107,
   "metadata": {
    "collapsed": true
   },
   "outputs": [],
   "source": [
    "wealth_scat = Scatter(x=cap_income, y=life_exp, color=data['region'], size=pop,\n",
    "                      names=data['name'], display_names=False,\n",
    "                      scales={'x': x_sc, 'y': y_sc, 'color': c_sc, 'size': size_sc},\n",
    "                      default_size=4112, tooltip=tt, animate=True, stroke='Black',\n",
    "                      unhovered_style={'opacity': 0.5})"
   ]
  },
  {
   "cell_type": "code",
   "execution_count": 108,
   "metadata": {
    "collapsed": true
   },
   "outputs": [],
   "source": [
    "nation_line = Lines(x=data['income'][0], y=data['lifeExpectancy'][0], colors=['Gray'],\n",
    "                       scales={'x': x_sc, 'y': y_sc}, visible=False)"
   ]
  },
  {
   "cell_type": "markdown",
   "metadata": {},
   "source": [
    "#### Creating the Figure"
   ]
  },
  {
   "cell_type": "code",
   "execution_count": 109,
   "metadata": {
    "collapsed": true
   },
   "outputs": [],
   "source": [
    "time_interval = 10"
   ]
  },
  {
   "cell_type": "code",
   "execution_count": 110,
   "metadata": {
    "collapsed": true
   },
   "outputs": [],
   "source": [
    "fig = Figure(marks=[wealth_scat, year_label, nation_line], axes=[ax_x, ax_y],\n",
    "             title='Health and Wealth of Nations', animation_duration=time_interval)"
   ]
  },
  {
   "cell_type": "markdown",
   "metadata": {},
   "source": [
    "### Animations"
   ]
  },
  {
   "cell_type": "code",
   "execution_count": 111,
   "metadata": {
    "collapsed": true
   },
   "outputs": [],
   "source": [
    "year_slider = IntSlider(min=1800, max=2008, step=1, description='Year', value=initial_year)"
   ]
  },
  {
   "cell_type": "code",
   "execution_count": 112,
   "metadata": {
    "collapsed": true
   },
   "outputs": [],
   "source": [
    "def hover_changed(change):\n",
    "    if change.new is not None:\n",
    "        nation_line.x = data[data['name'] == wealth_scat.names[change.new]]['income'].values[0]\n",
    "        nation_line.y = data[data['name'] == wealth_scat.names[change.new]]['lifeExpectancy'].values[0]\n",
    "        nation_line.visible = True\n",
    "    else:\n",
    "        nation_line.visible = False\n",
    "        \n",
    "wealth_scat.observe(hover_changed, 'hovered_point')"
   ]
  },
  {
   "cell_type": "code",
   "execution_count": 113,
   "metadata": {
    "collapsed": true
   },
   "outputs": [],
   "source": [
    "def year_changed(change):\n",
    "    wealth_scat.x, wealth_scat.y, wealth_scat.size = get_data(year_slider.value)\n",
    "    year_label.text = [str(year_slider.value)]\n",
    "\n",
    "year_slider.observe(year_changed, 'value')"
   ]
  },
  {
   "cell_type": "markdown",
   "metadata": {},
   "source": [
    "#### Add an animation button"
   ]
  },
  {
   "cell_type": "code",
   "execution_count": 114,
   "metadata": {
    "collapsed": true
   },
   "outputs": [],
   "source": [
    "play_button = Play(min=1800, max=2008, interval=time_interval)\n",
    "jslink((play_button, 'value'), (year_slider, 'value'))"
   ]
  },
  {
   "cell_type": "markdown",
   "metadata": {},
   "source": [
    "### Displaying the visuslization"
   ]
  },
  {
   "cell_type": "code",
   "execution_count": 116,
   "metadata": {
    "scrolled": false
   },
   "outputs": [
    {
     "data": {
      "application/vnd.jupyter.widget-view+json": {
       "model_id": "1a255afeafaf4d1aa28f9b3bd4ebbafe",
       "version_major": 2,
       "version_minor": 0
      },
      "text/plain": [
       "A Jupyter Widget"
      ]
     },
     "metadata": {},
     "output_type": "display_data"
    }
   ],
   "source": [
    "VBox([HBox([play_button, year_slider]), fig])"
   ]
  },
  {
   "cell_type": "code",
   "execution_count": null,
   "metadata": {
    "collapsed": true
   },
   "outputs": [],
   "source": []
  }
 ],
 "metadata": {
  "kernelspec": {
   "display_name": "Python 3",
   "language": "python",
   "name": "python3"
  },
  "language_info": {
   "codemirror_mode": {
    "name": "ipython",
    "version": 3
   },
   "file_extension": ".py",
   "mimetype": "text/x-python",
   "name": "python",
   "nbconvert_exporter": "python",
   "pygments_lexer": "ipython3",
   "version": "3.5.4"
  }
 },
 "nbformat": 4,
 "nbformat_minor": 1
}
